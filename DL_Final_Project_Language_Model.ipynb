{
  "cells": [
    {
      "cell_type": "markdown",
      "metadata": {
        "id": "FrnM8FT4tzCu"
      },
      "source": [
        "# Probing the Dynamics of Language Using Word-Embedding and Text-Generation Models\n",
        "\n",
        "\n",
        "**Authors:** Roman Hall, Gopal Iyer, Zaul Tavangar\n",
        "\n",
        "**Description:** Notebook containing our language models (miniature version of GPT) for each year of headlines. Adapted from \"Text generation with a miniature GPT\" by Apoorv Nandan. https://keras.io/examples/generative/text_generation_with_miniature_gpt/\n"
      ]
    },
    {
      "cell_type": "markdown",
      "metadata": {
        "id": "x5DwwTWhtzC1"
      },
      "source": [
        "## Introduction\n",
        "\n",
        "We implement an autoregressive language model\n",
        "using a miniature version of the GPT model.\n",
        "The model consists of a single Transformer block with causal masking\n",
        "in its attention layer."
      ]
    },
    {
      "cell_type": "markdown",
      "metadata": {
        "id": "ZUqpFzfvtzC2"
      },
      "source": [
        "## Setup"
      ]
    },
    {
      "cell_type": "code",
      "execution_count": null,
      "metadata": {
        "id": "vedSpdhWtzC2",
        "colab": {
          "base_uri": "https://localhost:8080/"
        },
        "outputId": "c340f521-6409-426e-ba51-5b61be9af262"
      },
      "outputs": [
        {
          "output_type": "stream",
          "name": "stdout",
          "text": [
            "Mounted at /content/drive\n"
          ]
        }
      ],
      "source": [
        "import tensorflow as tf\n",
        "from tensorflow import keras\n",
        "from tensorflow.keras import layers\n",
        "from tensorflow.keras.layers import TextVectorization\n",
        "import numpy as np\n",
        "import os\n",
        "import re\n",
        "import string\n",
        "import random\n",
        "import pickle\n",
        "from google.colab import drive\n",
        "drive.mount('/content/drive')\n"
      ]
    },
    {
      "cell_type": "markdown",
      "metadata": {
        "id": "pZVKAKBatzC3"
      },
      "source": [
        "## Implement a Transformer block as a layer"
      ]
    },
    {
      "cell_type": "code",
      "execution_count": null,
      "metadata": {
        "id": "6f1xYEihtzC4"
      },
      "outputs": [],
      "source": [
        "\n",
        "def causal_attention_mask(batch_size, n_dest, n_src, dtype):\n",
        "    \"\"\"\n",
        "    Mask the upper half of the dot product matrix in self attention.\n",
        "    This prevents flow of information from future tokens to current token.\n",
        "    1's in the lower triangle, counting from the lower right corner.\n",
        "    \"\"\"\n",
        "    i = tf.range(n_dest)[:, None]\n",
        "    j = tf.range(n_src)\n",
        "    m = i >= j - n_src + n_dest\n",
        "    mask = tf.cast(m, dtype)\n",
        "    mask = tf.reshape(mask, [1, n_dest, n_src])\n",
        "    mult = tf.concat(\n",
        "        [tf.expand_dims(batch_size, -1), tf.constant([1, 1], dtype=tf.int32)], 0\n",
        "    )\n",
        "    return tf.tile(mask, mult)\n",
        "\n",
        "\n",
        "class TransformerBlock(layers.Layer):\n",
        "    def __init__(self, embed_dim, num_heads, ff_dim, rate=0.1):\n",
        "        super().__init__()\n",
        "        self.att = layers.MultiHeadAttention(num_heads, embed_dim)\n",
        "        self.ffn = keras.Sequential(\n",
        "            [layers.Dense(ff_dim, activation=\"relu\"), layers.Dense(embed_dim),]\n",
        "        )\n",
        "        self.layernorm1 = layers.LayerNormalization(epsilon=1e-6)\n",
        "        self.layernorm2 = layers.LayerNormalization(epsilon=1e-6)\n",
        "        self.dropout1 = layers.Dropout(rate)\n",
        "        self.dropout2 = layers.Dropout(rate)\n",
        "\n",
        "    def call(self, inputs):\n",
        "        input_shape = tf.shape(inputs)\n",
        "        batch_size = input_shape[0]\n",
        "        seq_len = input_shape[1]\n",
        "        causal_mask = causal_attention_mask(batch_size, seq_len, seq_len, tf.bool)\n",
        "        attention_output = self.att(inputs, inputs, attention_mask=causal_mask)\n",
        "        attention_output = self.dropout1(attention_output)\n",
        "        out1 = self.layernorm1(inputs + attention_output)\n",
        "        ffn_output = self.ffn(out1)\n",
        "        ffn_output = self.dropout2(ffn_output)\n",
        "        return self.layernorm2(out1 + ffn_output)\n"
      ]
    },
    {
      "cell_type": "code",
      "source": [
        "# Perform yearwise\n",
        "pretrained_embeddings_full = np.loadtxt('/content/drive/My Drive/Deep Learning Final Project/vectors/all_vectors.tsv')\n",
        "\n",
        "pretrained_embeddings_yearwise = []\n",
        "for i in range(2003, 2022):\n",
        "  pretrained_embeddings_yearwise.append(np.loadtxt(f'/content/drive/My Drive/Deep Learning Final Project/vectors/{i}_vectors.tsv'))"
      ],
      "metadata": {
        "id": "E7TdaTlqGQcp"
      },
      "execution_count": null,
      "outputs": []
    },
    {
      "cell_type": "markdown",
      "metadata": {
        "id": "w7OsMbFrtzC5"
      },
      "source": [
        "## Implement an embedding layer\n",
        "\n",
        "Create two seperate embedding layers: one for tokens and one for token index\n",
        "(positions)."
      ]
    },
    {
      "cell_type": "code",
      "execution_count": null,
      "metadata": {
        "id": "NOVBp8LAtzC5"
      },
      "outputs": [],
      "source": [
        "\n",
        "class TokenAndPositionEmbedding(layers.Layer):\n",
        "    def __init__(self, maxlen, vocab_size, embed_dim, pretrained_embeddings):\n",
        "        super().__init__()\n",
        "        self.pos_emb = layers.Embedding(input_dim=maxlen, output_dim=embed_dim)\n",
        "\n",
        "        self.token_emb = tf.keras.layers.Embedding(\n",
        "            input_dim=vocab_size, \n",
        "            output_dim=embed_dim,\n",
        "            embeddings_initializer=tf.keras.initializers.Constant(pretrained_embeddings),\n",
        "            trainable=False,  # Set to False if you don't want to fine-tune the embeddings\n",
        "            mask_zero=True   # Set to True if your embeddings include a zero-padding token\n",
        "        )\n",
        "\n",
        "    def call(self, x):\n",
        "        maxlen = tf.shape(x)[-1]\n",
        "        positions = tf.range(start=0, limit=maxlen, delta=1)\n",
        "        positions = self.pos_emb(positions)\n",
        "        x = self.token_emb(x)\n",
        "        return x + positions\n"
      ]
    },
    {
      "cell_type": "markdown",
      "metadata": {
        "id": "NcWBaXC8tzC6"
      },
      "source": [
        "## Implement the miniature GPT model"
      ]
    },
    {
      "cell_type": "code",
      "execution_count": null,
      "metadata": {
        "id": "MQPQYNx3tzC7"
      },
      "outputs": [],
      "source": [
        "vocab_size = 4095  # Only consider the top 4095 words\n",
        "maxlen = 14  # Max sequence size\n",
        "embed_dim = 256  # Embedding size for each token\n",
        "num_heads = 2  # Number of attention heads\n",
        "feed_forward_dim = 256  # Hidden layer size in feed forward network inside transformer\n",
        "\n",
        "\n",
        "def create_model(year):\n",
        "    if year == -1: # Full dataset\n",
        "      pretrained_embeddings = pretrained_embeddings_full\n",
        "    else:\n",
        "      pretrained_embeddings = pretrained_embeddings_yearwise[year - 2003]\n",
        "    inputs = layers.Input(shape=(maxlen,), dtype=tf.int32)\n",
        "    embedding_layer = TokenAndPositionEmbedding(maxlen, vocab_size, embed_dim, pretrained_embeddings)\n",
        "    x = embedding_layer(inputs)\n",
        "    transformer_block = TransformerBlock(embed_dim, num_heads, feed_forward_dim)\n",
        "    x = transformer_block(x)\n",
        "    outputs = layers.Dense(vocab_size)(x)\n",
        "    model = keras.Model(inputs=inputs, outputs=[outputs, x])\n",
        "    loss_fn = tf.keras.losses.SparseCategoricalCrossentropy(from_logits=True)\n",
        "    model.compile(\n",
        "        \"adam\", loss=[loss_fn, None],\n",
        "    )  # No loss and optimization based on word embeddings from transformer block\n",
        "    return model\n"
      ]
    },
    {
      "cell_type": "markdown",
      "metadata": {
        "id": "RUPCbyy4tzC7"
      },
      "source": [
        "## Prepare the data for word-level language modelling"
      ]
    },
    {
      "cell_type": "code",
      "execution_count": null,
      "metadata": {
        "id": "B1yJMlxEtzC7",
        "outputId": "46d234df-03ea-4d95-a763-fe11a70115e6",
        "colab": {
          "base_uri": "https://localhost:8080/"
        }
      },
      "outputs": [
        {
          "output_type": "stream",
          "name": "stdout",
          "text": [
            "['', '[UNK]', 'to', 'in', 'for', 'of', 'on', 'the', 'over', 'police', 'at', 'with', 'after', 'new', 'a', 'man', 'and', 'as', 'says', 'from', 'up', 'by', 'us', 'out', 'be', 'court', 'australia', 'govt', 'council', 'more', 'nsw', 'not', 'interview', 'fire', 'australian', 'wa', 'sydney', 'plan', 'water', 'death', 'qld', 'into', 'crash', 'health', 'off', 'against', 'back', 'no', 'charged', 'down', 'is', 'murder', 'report', 'sa', 'day', 'call', 'government', 'about', 'coast', 'hospital', 'world', 'car', 'calls', 'south', 'two', 'woman', 'may', 'election', 'home', 'will', 'found', 'first', 'win', 'coronavirus', 'killed', 'accused', 'china', 'north', 'missing', 'school', 'melbourne', 'rural', 'one', 'cup', 'minister', 'nt', 'attack', 'urged', 'set', 'dies', 'under', 'queensland', 'claims', 'wins', 'help', 'face', 'year', 'market', 'child', 'farmers', 'trial', 'indigenous', 'funding', 'labor', 'open', 'national', 'boost', 'sex', 'hit', 'talks', 'high', 'gold', 'could', 'get', 'group', 'power', 'drug', 'dead', 'abc', 'deal', 'house', 'road', 'case', 'pm', 'mp', 'former', 'news', 'public', 'fears', 'adelaide', 'workers', 'centre', 'budget', 'plans', 'rise', 'final', 'charges', 'top', 'test', 'act', 'west', 'ban', 'work', 'business', 'mine', 'still', 'canberra', 'record', 'industry', 'search', 'fight', 'years', 'family', 'residents', 'support', 'brisbane', 'big', 'probe', 'perth', 'take', 'iraq', 'country', 'guilty', 'inquiry', 'changes', 'jailed', 'change', 'gets', 'three', 'opposition', 'union', 'state', 'time', 'pay', 'takes', 'trump', 'community', 'concerns', 'tax', 'say', 'federal', 'defends', 'service', 'have', 'review', 'backs', 'push', 'end', 'port', 'has', 'future', 'assault', 'arrested', 'jail', 'drought', 'return', 'laws', 'go', 'jobs', 'cut', 'lead', 'victoria', 'action', 'rain', 'faces', 'it', 'driver', 'mayor', 'funds', 'war', 'safety', 'ahead', 'urges', 'mining', 'flood', 'second', 'cuts', 'vic', 'wants', 'continues', 'warning', 'covid', 'chief', 'study', 'appeal', 'fatal', 'regional', 'afl', 'security', 'weather', 'life', 'park', 'farm', 'four', 'bushfire', 'abuse', 'tas', 'bid', 'housing', 'hits', 'local', 'alleged', 'all', 'decision', 'injured', 'season', 'darwin', 'warns', 'price', 'people', 'denies', 'shooting', 'show', 'body', 'job', 'tasmania', 'campaign', 'land', 'told', 'green', 'rejects', 'live', 'un', 'east', 'run', 'river', 'make', 'tour', 'media', 'gas', 'rail', 'storm', 'violence', 'how', 'station', 'prices', 'threat', 'anti', 'protest', 'women', 'premier', 'india', 'care', 'tourism', 'who', 'teen', 'bill', 'victims', 'tasmanian', 'climate', 'are', 'seeks', 'near', 'students', 'blaze', 'png', 'speaks', 'strike', 'trade', 'island', 'but', 'services', 'league', 'hill', 'his', 'free', 'children', 'wont', 'greens', 'england', 'hour', 'rate', 'air', 'nrl', 'party', 'city', 'aussie', 'pakistan', 'president', 'what', 'murray', 'chinese', 'vote', 'coal', 'rates', 'head', 'young', 'despite', 'continue', 'charge', 'hopes', 'train', 'through', 'food', 'attacks', '19', 'aid', 'hold', 'cancer', 'scheme', 'crisis', 'emergency', 'leader', 'cattle', 'begins', 'move', 'aust', 'share', 'risk', 'close', 'parliament', 'debate', 'airport', 'five', 'markets', 'an', 'royal', 'plane', 'nz', 'team', 'research', 'makes', 'during', 'title', 'than', 'men', 'cyclone', 'japan', 'company', 'victorian', 'start', 'victory', 'rules', 'asylum', 'korea', 'bus', 'sale', 'finds', 'project', 'program', 'kills', 'was', 'australias', 'bank', 'investigate', 'hunter', 'oil', 'donald', 'battle', 'john', 'race', 'pacific', 'find', 'staff', 'defence', 'prison', 'stop', 'club', 'force', 'highway', 'bail', 'meeting', 'hobart', 'baby', 'rudd', 'questions', 'legal', 'stabbing', 'christmas', 'announces', 'play', 'being', 'clash', 'meet', 'abbott', 'toll', 'central', 'pleads', 'keep', 'expected', 'accident', 'claim', 'seek', 'shows', 'fall', 'long', 'northern', 'investigation', 'old', 'commission', 'aboriginal', 'policy', 'hope', 'inquest', 'crime', 'its', 'sparks', 'development', 'should', 'use', 'youth', 'black', 'bush', 'can', 'uk', 'amid', 'western', 'victim', 'dog', 'hunt', 'deaths', 'again', 'considers', 'boat', 'festival', 'tigers', 'good', 'ready', 'super', 'mental', 'nuclear', 'thousands', 'site', 'law', 'warned', 'bomb', 'million', 'too', 'indonesia', 'fires', 'light', 'beach', 'week', 'energy', 'cost', 'beat', 'coach', 'flu', 'sea', 'ex', 'scott', 'newcastle', 'plant', 'shire', 'truck', 'way', 'challenge', 'rescue', 'control', 'drivers', 'red', 'education', 'fined', 'boss', 'early', 'welcomes', 'leaders', 'doctors', 'boy', 'town', 'australians', 'drum', 'british', 'system', 'shot', 'michael', 'david', 'hears', 'another', 'leave', 'track', 'stay', 'growers', 'street', 'put', 'cases', 'officer', 'reports', 'protesters', 'building', 'restrictions', 'release', 'smith', 'highlights', 'rally', 'last', 'opens', 'blues', 'leaves', 'target', 'closer', 'bay', 'six', 'behind', 'dairy', 'troops', 'impact', '10', 'wild', 'doctor', 'interest', 'named', 'international', 'councils', 'howard', 'third', 'moves', 'drugs', 'before', 'injury', 'fuel', 'break', 'dollar', 'training', 'offer', 'need', 'better', 'rape', 'money', 'strong', 'outback', 'suicide', 'leads', 'games', 'pressure', 'blast', 'their', 'arrest', 'senate', 'gives', 'forces', 'offers', 'schools', 'st', 'wall', 'mark', 'star', 'aged', 'loses', 'line', 'falls', 'match', 'alice', 'released', 'peter', 'friday', 'demand', 'focus', 'puts', 'facing', 'art', 'lose', 'cricket', 'numbers', 'french', 'save', 'broken', 'reveals', 'carbon', 'double', 'girl', 'loss', 'iran', 'kill', 'low', 'march', 'looks', 'why', 'clean', 'extended', 'mother', 'rights', 'driving', 'military', 'political', 'turnbull', 'promises', 'next', 'delays', 'hotel', 'white', 'sentence', 'foreign', 'confident', 'aussies', 'goes', 'stand', 'floods', 'returns', 'rugby', 'increase', 'issues', 'great', 'signs', 'border', 'tells', 'fiji', 'shares', 'liberal', 'southern', 'worker', 'remains', 'growth', 'consider', 'obama', 'united', 'stolen', 'profit', 'he', 'planning', 'ends', 'key', 'illegal', 'damage', 'grand', 'sri', 'nrn', 'video', 'parents', 'indian', 'needed', 'lake', 'qantas', 'indonesian', 'game', 'grandstand', 'coalition', 'best', 'round', 'russia', 'post', 'waste', 'closure', 'economic', 'visit', 'dam', 'global', 'dispute', 'bali', 'award', 'israel', 'want', 'olympic', '2', 'shortage', 'welcome', 'alcohol', 'detention', 'prompts', 'front', 'vs', 'liberals', 'fishing', 'safe', 'admits', 'sales', 'you', 'protests', 'woes', 'homes', 'firefighters', 'shark', 'iraqi', 'major', 'joins', 'kids', 're', 'sentenced', 'wind', 'teachers', 'domestic', 'sign', 'terrorism', 'response', 'row', 'economy', 'james', 'look', 'wallabies', 'monday', 'join', 'rises', 'sexual', 'farmer', 'afghan', '2015', 'scientists', 'student', 'records', 'survey', 'mps', 'delay', 'wine', 'slams', 'launches', 'evidence', 'medical', 'grain', 'drink', 'ashes', 'history', 'away', 'transport', 'do', 'financial', 'drop', 'ship', 'father', 'upgrade', 'wednesday', 'stage', 'costs', 'speed', 'france', 'likely', 'tuesday', 'must', 'alp', 'sought', 'human', 'film', 'dogs', 'valley', 'property', 'pair', 'authorities', 'board', 'full', 'fish', 'womens', 'telstra', 'uni', 'doubt', 'soldiers', 'gun', 'tests', 'miss', 'lawyer', 'we', 'helps', 'expansion', 'hurt', 'threatens', '1', 'crashes', 'tough', 'bridge', 'sport', 'fails', '12', 'fund', 'protection', 'church', 'name', 'vaccine', 'fraud', 'sets', 'killer', 'army', 'bendigo', 'killing', 'pushes', '20', 'russian', 'crackdown', 'thursday', 'online', 'roads', 'gillard', 'poll', 'planned', 'groups', 'nationals', 'suspected', 'most', 'players', 'zealand', 'conference', 'fear', 'launch', 'finals', 'hearing', '2014', 'closes', 'firm', 'surgery', 'social', 'export', 'afghanistan', 'phone', 'horse', 'mill', 'higher', 'given', 'families', 'expert', 'suspended', 'critical', 'leadership', 'ceo', 'conditions', 'travel', 'disease', 'judge', 'creek', 'rescued', 'give', 'begin', 'treatment', 'held', 'london', 'bans', '3', 'link', 'tree', 'williams', 'office', 'concern', 'teens', 'tv', 'confirms', 'figures', 'across', 'far', 'series', 'that', 'thai', 'rock', 'solar', 'bird', 'needs', 'drive', 'lost', 'this', 'capital', 'hundreds', 'origin', 'peace', 'syria', 'flooding', 'sheep', 'role', 'music', 'access', 'times', 'king', 'crews', 'teacher', 'stars', 'real', 'candidate', 'townsville', 'targets', 'rio', 'beef', 'relief', 'blamed', 'now', 'results', 'son', 'raid', 'latest', 'heritage', 'remain', 'sees', 'quits', 'tony', 'some', 'andrew', 'quake', 'cabinet', 'squad', 'harvest', 'forum', 'mount', 'corruption', 'recovery', 'cash', 'remote', 'made', 'lanka', 'states', 'her', 'watch', 'your', 'politics', 'term', 'contract', 'possible', 'point', 'days', 'list', 'suspect', 'if', 'disaster', 'awards', 'anzac', 'miners', 'mackay', 'welfare', 'tourist', 'territory', 'late', 'caught', 'jones', 'cleared', 'management', 'lions', 'morrison', 'merger', 'coroner', 'heads', 'vows', 'flight', 'historic', 'petrol', 'socceroos', 'lower', 'theft', 'businesses', 'racing', 'rising', 'gay', 'armed', 'rebels', 'discuss', '2016', 'yet', 'tackle', 'reform', 'see', 'breaks', 'night', 'concerned', 'storms', 'investment', 'seven', 'without', 'debt', 'turns', 'outbreak', 'kimberley', 'warriors', 'fruit', 'brown', 'spot', 'george', 'linked', 'eagles', 'ice', 'patients', 'gippsland', 'collapse', 'hot', 'pledges', 'mid', 'industrial', 'memorial', 'cross', 'africa', 'or', 'agreement', 'keen', 'japanese', 'tsunami', 'looking', 'comments', 'robbery', 'general', 'draw', 'seekers', 'cause', 'timor', 'fans', 'deadly', 'used', 'small', 'officers', 'confidence', 'takeover', 'revamp', 'chase', 'august', 'crop', 'owners', 'johnson', 'bashing', 'would', 'rare', 'reef', 'bushfires', 'alert', 'sugar', 'data', 'september', 'israeli', 'short', 'right', 'reach', 'nine', 'proposed', 'gaza', 'due', 'aims', 'turn', 'nurses', 'efforts', 'sharks', 'banks', 'university', '11', 'custody', 'strikes', 'experts', 'private', 'refugee', 'paul', 'left', 'fly', 'animal', 'tipped', 'heart', 'finance', '100', 'working', 'warn', 'success', 'trading', 'space', 'ease', 'testing', 'supply', 'extra', 'step', 'springs', 'terror', 'raises', 'pilot', 'discusses', 'marriage', 'commissioner', 'bulldogs', 'boom', 'weekend', 'al', 'making', '15', 'july', 'de', 'talk', 'couple', 'plea', 'exports', 'worries', 'escape', 'banned', 'prepare', 'problems', 'cairns', 'allegations', 'underway', 'traffic', 'spark', 'brawl', 'wife', 'production', 'philippines', 'native', 'camp', 'june', 'sector', 'happy', 'hand', 'swan', 'forest', 'construction', 'half', 'bad', 'bulls', 'spill', 'bombers', 'harbour', 'heat', 'councillor', '4', 'ir', 'fighting', 'communities', 'prince', 'analysis', 'cannabis', 'brings', 'darling', 'elderly', 'reds', 'die', 'stands', 'uranium', 'knights', 'celebrates', 'problem', 'blue', 'mixed', 'forced', 'player', 'demands', 'milk', 'broncos', 'further', 'come', 'october', 'mt', 'asbestos', 'whale', 'like', 'islamic', 'i', 'bikie', 'billion', 'asked', 'april', 'taxi', 'ambulance', 'fed', 'marine', 'spending', 'protect', '30', 'clarke', 'they', 'fresh', 'dr', 'fix', 'causes', 'committee', 'summit', 'november', 'soldier', 'tourists', 'compensation', 'facebook', 'wrap', 'positive', 'starts', 'months', 'beats', 'worlds', 'part', 'e', 'sell', 'reporter', 'growing', 'dry', 'justice', 'olympics', '5', 'boosts', '2013', 'unions', 'zimbabwe', 'press', 'same', 'dump', 'porn', 'fine', 'clear', 'details', 'pool', 'flights', 'internet', 'football', 'teenager', 'islands', 'wait', 'delayed', 'proposal', 'issue', 'factory', 'heavy', 'prime', 'boys', 'keeps', 'chris', 'around', 'commonwealth', 'prepares', 'officials', 'crows', 'pipeline', 'millions', '14', 'footage', 'just', 'incident', 'losses', 'form', 'explosion', 'well', 'host', 'holds', 'director', 'cold', 'cars', 'researchers', 'bombing', 'question', 'own', 'hong', 'resigns', 'arrests', 'official', 'eight', 'dont', 'baghdad', 'criticises', 'address', 'prize', 'seat', 'iron', 'opening', 'female', 'cats', 'criticism', 'suspicious', 'ruling', 'beattie', 'mans', 'been', 'plays', 'scandal', 'disability', 'infrastructure', 'quarter', 'unit', 'scare', 'owner', 'cbd', 'eu', 'taking', 'hawks', 'bring', 'daniel', 'when', 'winning', 'improve', 'urge', 'grant', 'asian', 'sports', 'running', 'called', 'kong', 'accc', 'looms', 'insurance', 'hewitt', 'senator', 'waiting', 'funeral', 'anniversary', 'wool', 'reveal', 'lockdown', 'bangladesh', 'chance', 'stocks', 'hours', 'become', 'apologises', 'check', 'blood', 'federer', 'compo', 'gm', 'past', 'honour', '50', 'approval', 'date', 'population', 'hard', 'captain', 'girls', 'quarantine', 'story', 'homeless', 'poor', 'york', 'lives', 'basin', 'questioned', 'charity', 'zone', 'angry', 'giant', '16', 'virus', 'book', 'ministers', 'stabbed', 'least', 'closed', 'honours', 'wheat', 'unlikely', 'korean', 'hospitals', 'level', 'blasts', 'anger', '13', 'toddler', 'resources', 'retirement', 'mission', 'asia', '7', 'museum', 'mass', 'helping', 'surge', 'pilbara', 'number', 'fast', '18', 'only', 'between', 'exchange', 'rule', 'leak', 'package', 'granted', 'farming', 'tribute', 'tim', 'licence', 'hall', 'levels', 'threaten', 'broome', 'little', 'raise', 'environment', 'cane', 'lift', 'drops', 'holiday', 'cowboys', 'martin', 'technology', 'easter', 'attempted', 'meat', 'forestry', 'van', 'tiger', 'dismisses', 'winter', 'jury', 'german', 'chopper', 'slow', 'fraser', 'bhp', 'raids', 'steve', 'flying', 'following', 'fourth', 'does', 'refugees', 'emissions', 'costello', 'nations', 'bike', 'benefits', 'patient', 'manager', 'jets', 'eyes', 'macquarie', 'summary', 'ben', 'smoking', 'paris', 'mobile', 'levy', 'orders', '8', 'struggling', 'pledge', 'order', 'month', 'miner', 'lawyers', 'sunshine', 'nursing', 'blame', 'joyce', 'earthquake', 'arrives', 'syrian', 'ponting', 'steps', '24', 'immigration', 'flags', 'downer', 'outside', 'dangerous', 'avoid', 'siege', 'dept', 'croc', 'witnesses', 'roosters', 'appeals', 'independent', 'deadline', 'college', 'arson', 'announced', 'biggest', 'asx', 'african', 'turkey', 'place', 'offences', 'navy', 'crops', 'members', 'eye', 'alive', 'swans', 'palmer', 'enough', 'candidates', 'unveils', 'dozens', 'violent', 'shopping', 'gp', 'had', 'fights', 'field', 'card', 'blow', 'bishop', 'ballarat', 'allegedly', 'summer', 'lack', 'strategy', 'releases', 'class', 'ama', 'promise', 'cruise', 'winds', 'towns', 'volunteers', 'update', 'our', 'reserve', 'love', 'gang', 'treasurer', 'secret', 'rba', 'december', 'mystery', 'launched', 'ground', 'glory', 'deputy', 'fake', 'albany', 'policeman', 'icac', 'gains', 'using', 'raiders', 'alan', 'refused', '17', 'timber', 'criticised', 'joe', 'votes', 'lobby', 'knife', 'palestinian', 'approves', 'wide', 'malcolm', 'credit', 'advice', 'seeker', 'reaches', 'chelsea', 'convicted', 'shop', 'science', 'fair', 'pope', 'living', 'worst', 'debut', 'britain', 'weeks', 'special', 'riverland', 'malaysia', 'edge', 'defeat', 'companies', 'speech', 'ferry', 'survivors', 'stranded', 'operation', 'chemical', 'burns', 'falling', 'nbn', 'locals', 'buy', 'brumbies', 'passes', 'kohler', 'meets', 'helicopter', 'february', 'region', 'quit', 'overhaul', '6', 'trip', 'refuses', 'kim', 'visits', 'environmental', 'going', 'lee', 'winner', 'walk', 'dragons', 'vietnam', 'trio', 'prisoner', 'ore', '25', 'reject', 'build', 'senior', 'competition', 'escapes', 'sacked', 'powers', 'points', 'forecast', 'overseas', 'comeback', 'afp', 'authority', 'golden', 'crown', 'hear', 'crowd', 'italy', 'breach', 'plead', 'g', 'draft', 'worried', 'womans', 'hands', 'accuses', 'weapons', 'producers', 'taliban', 'breakfast', 'riot', 'career', 'nauru', 'names', 'roar', 'potential', 'network', 'elections', 'blog', 'brazil', 'rockhampton', 'getting', 'challenges', 'among', 'birthday', 'comes', 'barrier', 'thailand', 'bust', 'barnett', 'mum', 'base', 'speak', 'roll', 'offered', 'masters', 'dropped', 'saints', 'ride', 'event', 'egypt', 'celebrate', 'parties', 'rethink', 'projects', 'unemployment', 'praises', 'kevin', 'department', 'wet', 'manslaughter', 'burning', 'massive', 'message', 'bligh', 'struggle', 'spotlight', 'clubs', 'germany', 'delivers', 'retail', 'european', 'csg', 'catholic', 'agriculture', 'nurse', 'information', 'course', 'radio', 'pole', 'fees', 'fines', 'tougher', 'fail', 'nick', 'while', 'jackson', 'saudi', 'forward', 'farewell', 'exhibition', 'attacked', 'parks', 'kangaroo', 'pub', 'revealed', 'raised', 'penalty', 'daughter', 'bodies', 'store', '2020', 'apology', 'semi', 'livestock', 'inside', 'huge', 'polls', 'pays', 'outlook', 'coffs', 'blacks', 'adam', 'skills', 'irrigators', 'davis', 'age', 'shake', 'redbacks', 'gunns', 'govts', 'chinas', 'zoo', 'serious', 'matt', 'voters', 'artist', 'witness', 'eels', 'since', 'shock', 'ordered', 'liverpool', 'kelly', 'smash', 'self', 'journalist', 'invasion', 'guns', 'decide', 'queen', 'shorten', 'avoids', 'swine', 'progress', 'lifts', 'isa', 'mitchell', 'benefit', 'reforms', 'options', 'facility', 'visa', 'investors', 'hockey', 'pre', 'know', 'drinking', 'childcare', 'chairman', 'taken', 'upper', 'sent', 'secure', 'saving', 'n', 'lnp', 'failed', 'attempt', 'limit', 'were', 'verdict', 'reduce', 'prisoners', 'childrens', 'kings', 'injuries', 'guard', 'doping', 'culture', 'bundaberg', 'code', 'kalgoorlie', 'europe', 'scores', 'freight', 'medal', 'soon', 'regions', 'ring', 'denied', 'surf', 'stock', 'spain', 'predicts', 'sunday', 'bypass', 'wrong', 'mildura', 'clinton', 'craig', 'sold', 'gap', 'blames', 'january', '21', 'vanuatu', 'survives', 'tennis', 'honoured', 'cop', 'co', 'upset', 'downs', '9', 'american', '22', 'ocean', 'evacuated', 'danger', 'arts', 'condemns', 'dockers', 'profits', 'bob', 'prompt', 'nation', 'golf', 'works', 'kangaroos', 'confirmed', 'launceston', 'cant', 'beijing', 'newman', 'ads', 'ad', 'send', 'pga', 'paedophile', 'crossing', 'veterans', 's', 'woods', 'wagga', 'so', 'auction', 'opener', 'threatened', 'stosur', 'politicians', 'area', 'reopen', 'presidential', 'italian', 'considered', 'nadal', 'snowy', 'scam', 'paid', 'democrats', 'legislation', 'asks', 'andrews', 'workplace', 'resume', 'nab', 'conviction', 'block', 'approach', 'probes', 'pulls', 'entertainment', 'draws', 'champions', 'cctv', 'geelong', 'apple', 'stories', 'orange', 'arrive', 'lands', 'receive', 'quiz', 'gather', 'towards', 'slump', 'sends', 'posts', 'crew', 'stance', 'defend', 'singapore', 'seized', 'libs', 'intervention', 'grants', 'blitz', 'where', 'shut', 'rice', 'panel', 'muslim', 'damaged', 'burn', 'activists', 'marks', 'estate', 'greg', 'century', 'canada', 'trapped', 'hicks', 'retires', 'geraldton', 'abattoir', 'ukraine', 'pandemic', 'losing', 'smoke', 'ses', 'matthew', 'solomons', 'seize', 'militants', 'carr', 'watson', 'toxic', 'snow', 'result', 'less', 'almost', 'greater', 'latham', 'catch', 'mexico', 'pulp', 'fishers', 'plot', 'extends', 'brother', 'tafe', 'supports', 'richard', 'goulburn', 'extension', 'trees', 'wage', 'behaviour', 'unhappy', 'hopeful', 'dream', 'agree', 'suspects', 'mike', 'governor', 'dark', 'triple', 'taylor', 'receives', 'burma', 'seen', 'ruled', 'process', 'links', 'bullying', 'titans', 'supermarket', 'association', 'my', 'gallery', 'banking', 'campbell', 'axe', 'jump', 'doubts', 'warnings', 'thieves', 'plus', '40', 'qaeda', 'anderson', 'passengers', 'crowds', 'agenda', 'affect', 'swimming', 'morning', 'labour', 'controversial', 'breaking', 'tamworth', 'findings', 'demons', 'assistance', 'ryan', 'robert', 'damages', 'cameron', 'wanted', 'dna', 'audit', 'trials', 'middle', '2018', 'fired', 'tight', 'logging', 'landing', 'trying', 'derby', 'irrigation', 'footy', 'crack', 'vision', 'supreme', 'cover', 'updates', 'parking', 'nelson', 'answers', 'affected', 'areas', 'preview', 'cap', 'missile', 'exploration', 'whaling', 'threats', 'pms', 'pain', 'shield', 'paper', 'investigates', 'hub', 'complaints', 'did', 'governments', 'cyclist', 'bomber', 'watchdog', 'trail', 'rspca', 'anthony', 'toowoomba', 'sam', 'awarded', 'nasa', 'casino', 'veteran', 'sells', 'marathon', 'america', 'sue', 'hike', 'briefing', 'handed', 'airs', 'katherine', 'citrus', 'awaits', 'split', 'passenger', 'gulf', 'sydneys', 'member', 'centres', 'side', 'lewis', 'cast', 'agrees', 'soccer', 'lights', 'haul', 'sorry', 'detained', 'comment', 'cape', 'wollongong', 'stephen', 'oppn', 'crimes', 'contest', 'aim', '26', '2017', 'severe', 'sanctions', 'clashes', 'surprise', 'putin', 'much', 'ian', 'harvey', 'destroys', 'medicare', 'lebanon', 'dubbo', 'canadian', 'wales', 'bushrangers', 'petition', 'offender', 'gst', 'fishermen', 'councillors', 'destroyed', 'consumer', 'other', 'bat', 'evacuation', 'changing', 'cancelled', 'aired', 'until', 'spy', 'spike', 'resignation', 'reaction', 'photos', 'embassy', 'priest', 'died', 'becomes', 'tops', 'room', 'donations', 'predicted', 'evans', 'flag', 'breakthrough', 'wave', 'today', 'suspension', 'riverina', 'letter', 'failure', 'documents', 'ball', '23', 'partner', 'electricity', 'electoral', 'dumped', 'create', 'brexit', 'tom', 'sites', 'pro', 'ever', 'deliver', 'conflict', 'resumes', 'clinic', 'virgin', 'longer', 'issued', 'farms', 'english', 'cooper', 'champion', 'brain', 'tunnel', 'eases', 'suffers', 'stadium', 'labors', 'epa', 'disabled', 'shed', 'ill', 'website', 'biden', 'try', 'resort', 'flow', 'snub', 'secures', 'said', 'panthers', 'never', 'condition', 'appears', 'investigated', 'csiro', 'attend', 'wildlife', 'recycling', 'hamilton', 'trust', 'tribunal', 'lightning', 'rocks', 'gunman', 'sentencing', 'ireland', 'fit', 'finding', 'feral', 'executive', 'digital', 'declared', 'lakes', 'djokovic', 'appointed', 'luke', 'illawarra', 'boxing', 'animals', 'abortion', 'harry', 'ferguson', 'esperance', 'collision', 'tasmanias', 'runs', 'spread', 'species', 'chamber', 'greek', 'finish', 'clearing', 'village', 'halt', 'dutch', '2012', 'terrorist', 'confirm', 'targeted', 'breast', 'assaulted', 'scientist', 'la', 'hanson', 'gladstone', 'chaos', 'person', 'palm', 'hails', 'discovery', 'voting', 'leading', 'inflation', 'hiv', 'camera', 'taiwan', 'nightclub', 'disappointed', 'brothers', 'abduction', 'pollution', 'blair', 'traditional', 'survivor', 'sun', 'stoush', 'box', 'scrutiny', 'hills', 'drone', 'trains', 'pursuit', 'cops', 'seeking', 'risks', 'rage', 'mariners', 'fremantle', 'contamination', 'pass', 'many', 'goldfields', 'gambling', 'doesnt', 'boycott', 'tower', 'ties', 'fox', 'ton', 'flat', 'deny', 'california', 'assaults', 'hostage', 'stimulus', 'me', 'mallee', 'jobless', 'increased', 'fifth', 'tech', 'cameras', 'bigger', 'ag', 'tensions', 'outlines', 'murdered', 'jack', 'freed', 'stations', 'parts', 'interviews', 'spend', 'dust', 'wimbledon', 'slam', 'rollout', 'reopens', 'hoping', 'guide', '27', 'waters', 'pull', 'nearly', 'large', 'increases', 'grow', 'cook', '28', 'sues', 'streets', 'session', 'payments', 'net', 'nathan', 'henry', 'flee', 'fisherman', 'covid19', 'coming', 'pokies', 'coles', 'ambassador', 'wedding', 'learning', 'laid', 'bunbury', 'range', 'manly', 'bar', 'wake', 'fc', 'conservation', 'speeding', 'misses', 'fronts', 'birth', 'teams', 'stuart', 'shoot', 'quality', 'learn', 'solution', 'heatwave', 'approved', 'lab', 'hurricane', 'hamas', 'fee', 'extend', 'task', 'cull', 'championship', 'broadband', 'beaches', 'bruce', 'athletes', 'worth', 'primary', 'declares', 'cycling', 'trumps', 'swim', 'rush', 'playing', 'parliamentary', 'jet', 'agency', 'sick', 'semis', 'uncertainty', 'performance', 'malaysian', 'hunting', 'bin', 'solomon', 'spanish', 'feature', 'combat', 'murderer', 'fact', 'survive', 'queens', 'desert', 'banana', 'unrest', 'non', 'hospitalised', '0', 'replace', 'nod', 'mars', 'explains', 'bowen', 'journalists', 'beazley', 'announce', 'volunteer', 'removal', 'husband', 'dpp', 'rangers', 'cat', 'selling', 'model', 'jails', 'fever', 'crocodile', 'grape', 'stops', 'silver', 'beer', 'windies', 'theatre', 'responds', 'myanmar', 'mosque', 'moore', 'fifa', 'criminal', 'waratahs', 'route', 'antarctic', 'single', 'removed', 'victorias', 'teenage', 'monitor', 'measures', 'mary', 'announcement', 'speculation', 'goal', 'airlines', 'closures', 'bathurst', 'josh', 'braces', 'traders', 'cotton', 'follow', 'door', 'clive', 'bull', 'arsenal', 'sars', 'lucky', 'effort', 'streaming', 'manus', 'endangered', 'typhoon', 'sinks', 'rejected', 'asic', 'mens', 'feared', 'alliance', 'yacht', 'uncertain', 'rebel', 'photo', 'rainfall', 'hosts', 'winners', 'racism', 'hail', 'tropical', 'surplus', 'she', 'exit', 'burke', 'stealing', 'reduction', 'peak', 'moving', 'developer', 'wary', 'reflects', 'recall', 'manufacturing', 'grower', 'spirit', 'heading', 'harris', 'greece', 'ceremony', 'wounded', 'extradition', 'contracts', 'caravan', 'argentina', 'praise', 'pedestrian', 'hendra', 'guantanamo', 'within', 'withdraws', 'unveiled', 'remembered', 'changed', 'simon', 'rann', 'loan', 'count', 'thomas', 'ten', 'saturday', 'restaurant', 'era', 'standards', 'ross', 'proteas', 'mines', 'leaving', 'eastern', 'causing', 'professor', 'magistrate', 'houses', 'tomic', 'together', 'plastic', 'v', 'himself', 'conduct', 'bounce', 'twitter', 'cruelty', 'cocaine', 'irish', 'google', 'coastal', 'percent', 'bennett', 'allow', 'horror', 'backpacker', 'aids', '200', 'tip', 'roos', 'lease', 'christian', 'armstrong', 'clues', 'celebrations', 'supporters', 'hay', 'foster', 'checks', 'citizenship', 'bell', 'tips', 'richmond', 'hero', 'se', 'trouble', 'prevent', 'closing', 'referendum', 'friend', 'warne', 'caps', 'wood', 'tell', 'rest', 'pick', 'dollars', 'busy', 'saved', 'phoenix', 'led', 'awb', 'bills', 'welcomed', 'papua', 'mountain', 'reward', 'nato', 'magpies', 'donation', 'recommends', 'involved', 'discrimination', 'complete', 'sky', 'imports', 'customers', 'analyst', 'serena', 'remember', 'friends', 'deficit', 'calm', 'investigating', 'grows', 'fashion', 'earth', 'bashed', 'skipper', 'reported', 'mothers', 'finally', 'feel', 'detainees', 'bega', 'warm', 'turkish', 'phillip', 'lobster', 'let', 'jason', 'app', 'academic', 'william', 'failing', 'display', 'rob', 'kicks', 'handling', 'g20', 'f1', 'cultural', 'rental', 'discovered', 'thompson', 'scene', 'renewable', 'barnaby', 'volcano', 'keeping', 'him', 'contact', 'trafficking', 'serial', 'rabbitohs', 'returned', 'payment', 'dance', 'civil', 'torture', 'sudan', 'pet', 'doors', 'considering', 'rehab', 'mango', 'library', 'slide', 'parole', 'odi', 'graham', 'there', 'stays', 'pregnant', 'migrants', 'elected', 'activist', 'snake', 'peninsula', 'creates', 'smuggling', 'properties', 'operations', 'language', 'iranian', 'floodwaters', 'very', 'saddam', 'offenders', 'giants', 'erupts', 'cell', 'bombs', 'racist', 'holden', 'clears', 'chiefs', 'stress', 'sacking', 'horses', 'flock', 'duty', 'assaulting', 'natural', 'listen', 'flash', 'cow', 'anz', 'oval', 'nepal', 'mountains', 'graziers', 'flooded', 'burnt', '29', 'retailers', 'oppose', 'leg', 'reality', 'decline', 'think', 'planet', 'operators', 'murdering', 'motorcyclist', 'lord', 'voice', 'pakistani', 'moved', 'loans', 'highlight', 'worry', 'mix', 'coup', 'bag', 'supplies', 'limits', 'jumps', 'grass', 'drowning', 'caused', 'wages', 'rocket', 'relations', 'bombings', '2019', 'style', 'prove', 'main', 'exercise', 'pies', 'melbournes', 'drunk', 'describes', 'attacker', 'terminal', 'processing', 'prepared', 'giving', 'fireworks', 'deep', 'commercial', 'tape', 'julia', 'brett', 'status', 'fence', 'crocs', 'consultation', 'teenagers', 'sailor', 'experience', 'clp', 'charles', 'quick', 'maintain', 'lockyer', 'joint', 'identify', 'bound', 'boomers', 'birds', 'seats', 'boats', 'airline', 'operator', 'healthy', 'dad', 'clark', 'based', 'vehicle', 'stem', 'parade', 'largest', 'ipswich', 'euro', 'aus', 'recognised', 'freeway', 'author', 'accepts', 'withdrawal', 'mcg', 'massacre', 'expects', 'complaint', 'alternative', 'weed', 'murders', 'troop', 'resign', 'explained', 'cafe', 'amnesty', 'adf', 'recover', 'doing', 'coral', 'thanks', 'submissions', 'punch', 'netball', 'employment', 'ancient', 'done', 'ski', 'kyrgios', 'defamation', 'channel', 'buyers', 'abandoned', 'vandals', 'tinto', 'steven', 'statement', 'rogers', 'register', 'rapist', 'position', 'pig', 'breeding', 'apec', '60', 'straight', 'ombudsman', 'icc', 'buys', 'brace', 'audio', 'wimmera', 'championships', 'practice', 'matildas', 'illness', 'abalone', 'spring', 'koala', 'highest', 'flinders', 'expand', 'eating', 'movie', 'cliff', 'iemma', 'gambier', 'worse', 'tragedy', 'thought', 'opera', 'choice', 'byron', 'allowed', 'wellington', 'egg', 'dominate', 'relationship', 'nears', 'drowns', 'actor', 'wayne', 'thriller', 'proves', 'producer', 'treated', 'shots', 'saves', 'rolls', 'reporting', 'nbl', 'marshall', 'jim', 'freedom', 'enters', 'cyber', 'consumers', 'visitors', 'heroin', 'firms', 'counter', 'sons', 'shane', 'profile', 'migrant', 'hydro', 'florida', 'eve', 'ebola', 'don', 'total', 'schoolies', 'recession', 'jakarta', 'geoff', 'riots', 'remove', 'related', 'dying', 'controversy', 'murdoch', 'income', 'focuses', 'oyster', 'cards', 'wilson', 'thief', 'recognition', 'organisers', 'nets', 'garrett', 'el', 'provide', 'policies', 'xenophon', 'wwii', 'rallies', 'kiwis', 'hughes', 'fixing', 'essendon', 'cambodia', 'await', 'artists', 'whales', 'samoa', 'libya', 'generation', 'users', 'robber', 'pleased', 'mean', 'computer', 'backing', 'odds', 'extreme', 'committed', 'suspends', 'identity', 'gender', 'centrelink', 'biosecurity', 'turtle', 'ndis', 'monaro', 'mishap', 'mandatory', 'kick', 'democracy', 'yemen', 'upbeat', 'perfect', 'margaret', 'magic', 'grabs', 'chair', 'breaches', 'quizzed', 'monitoring', 'map', 'hwy', 'aceh', 'sister', 'seal', 'hole', 'fairfax', 'turning', 'resident', 'pitch', 'identified', 'gain', 'cutting', 'ticket', 'struggles', 'rescuers', 'machine', 'gps', 'colin', 'strip', 'speaker', 'lashes', 'bite', 'accept', 'woolworths', 'roger', 'railway', 'intelligence', 'appoints', 'tonga', 'rivers', 'plants', 'mayors', 'lure', 'friendly', 'transfer', 'streak', 'selection', 'euthanasia', '1m', 'reduced', 'lines', 'freeze', 'cool', 'snap', 'shutdown', 'pest', 'multi', 'threatening', 'prix', 'false', 'x', 'turned', 'option', 'indies', 'taskforce', 'penalties', 'liquor', 'lifeline', 'doubles', 'cracks', 'warner', 'talking', 'palestinians', 'hammer', 'diamond', 'unite', 'society', 'prevention', 'patel', 'gympie', 'grog', 'downturn', 'dental', 'confusion', 'champs', 'suffer', 'showdown', 'moon', 'drag', 'desperate', 'bracks', 'urgent', 'popular', 'patrol', 'mick', 'sworn', 'remembers', 'gabba', 'contain', 'collingwood', 'capture', 'bond', 'roof', 'pilots', 'nothing', 'crush', 'bottle', 'value', 'tributes', 'remanded', 'listing', 'expecting', 'dumping', 'dismissed', 'ccc', 'battles', 'motorcycle', 'guards', 'drives', 'cloud', 'bureau', 'alex', 'lock', 'garden', 'answer', 'washington', 'twenty20', 'paramedics', 'ute', 'proposes', 'fame', '500', 'westpac', 'survival', 'steady', 'spree', 'secretary', 'nba', 'homelessness', 'holding', 'expect', 'episode', 'classic', 'campus', 'annual', 'agricultural', 'walker', 'strait', 'revenue', 'fallen', 'facilities', 'table', 'shareholders', 'resolution', 'lifted', 'independence', 'scrap', 'request', 'payout', 'maker', 'legend', 'hunters', 'elizabeth', 'suu', 'rebate', 'injures', 'feeling', 'babies', 'arms', 'accommodation', 'rsl', 'pace', 'grave', 'explain', 'cancels', 'vow', 'stone', 'manchester', 'kidnapped', 'eyre', 'email', 'books', 'tuna', 'nickel', 'lankan', 'enter', 'zero', 'slater', 'silence', 'anu', 'p', 'marketing', 'lucas', 'arthur', 'thrown', 'suburbs', 'rider', 'retire', 'mall', 'legacy', 'increasing', 'founder', 'deals', 'congress', 'bash', '100m', 'w', 'scotland', 'returning', 'concert', 'seafood', 'recovering', 'develop', 'camel', 'appear', 'ask', 'ways', 'upgrades', 'things', 'tasmanians', 'events', 'collection', 'tokyo', 'tested', 'captured', 'webber', 'urban', 'settlement', 'san', 'migration', 'means', 'locust', 'divers', 'critics', 'awareness', 'song', 'soil', 'researcher', 'opposes', 'collapses', 'beckham', 'ash', 'sweep', 'norman', 'corp', 'blocks', 'rains', 'hedland', 'fitness', 'chances', 'brian', 'adjourned', 'shepparton', 'marsh', 'madrid', 'bed', 'misconduct', 'application', 'agent', 'administration', 'priority', 'plunge', 'neil', 'dementia', 'cyclists', 'completes', 'square', 'sach', 'privatisation', 'motorists', 'harassment', 'coverage', 'apartment', 'rfs', 'repairs', 'motion', 'locked', 'anglican', 'xi', 'races', 'curb', 'bikies', 'sights', 'seals', 'quiet', 'might', 'griffith', 'axed', 'storage', 'rescues', 'fan', 'seriously', 'redevelopment', 'obesity', 'labels', 'ethanol', 'buildings', 'bailey', 'sexually', 'maroons', 'junior', 'brumby', 'bom', 'texas', 'switch', 'privacy', 'foot', 'customs', 'algae', 'unfair', 'shocked', 'optimistic', 'hidden', 'examine', 'divided', 'appointment', 'ups', 'travellers', 'studio', 'saleyards', 'emotional', 'complex', 'backlash', 'zones', 'meningococcal', 'ken', 'cheese', 'attract', 'sentences', 'oscar', 'hollywood', 'diggers', 'demolition', 'spots', 'resource', 'rent', 'design', 'dengue', 'captures', 'average', 'addresses', 'vet', 'tennant', 'princess', 'offensive', 'import', 'guidelines', 'depression', 'tries', 'equipment', 'commits', 'ward', 'triggers', 'struck', 'retain', 'plate', 'ownership', 'edges', 'backyard', 'assets', 'troubled', 'tracking', 't20', 'sas', 'putting', 'lamb', 'fate', 'mr', 'mills', 'feed', 'error', 'duo', 'assange', 'suns', 'steel', 'sharing', 'satellite', 'premiers', 'places', 'overnight', 'image', 'cherry', 'carlton', 'them', 'sporting', 'rex', 'replacement', 'renewed', 'regulation', 'gear', 'flows', 'commitment', 'cfa', 'terry', 'shift', 'mourns', 'killings', 'blazes', 'barry', 'activity', 'uses', 'preselection', 'opportunities', 'newspaper', 'lyon', 'drilling', 'diabetes', 'above', 'words', 'solve', 'roddick', 'reviews', 'matter', 'journey', 'jong', 'fifo', 'courts', 'beds', 'terms', 'planes', 'firefighter', 'brad', 'personal', 'ffa', 'accidents', 'warren', 'vandalism', 'sharapova', 'qlds', 'parramatta', 'oldest', 'older', 'gunmen', 'casts', 'stanhope', 'rebuild', 'fill', 'repair', 'prawn', 'pictures', 'greyhound', 'duck', 'springborg', 'shires', 'desal', 'abs', 'ships', 'roberts', 'poverty', 'kyi', 'killers', 'indecent', 'heard', 'earns', 'assurances', 'wars', 'stoner', 'principal', 'permanent', 'pell', 'leaked', 'copper', 'canola', 'shipping', 'mooted', 'hostages', 'economist', 'boris', 'score', 'per', 'lessons', 'hat', 'cities', 'built', 'balance', 'swimmers', 'rating', 'poisoning', 'jetstar', 'interstate', 'hardie', 'gallop', 'ford', 'dutton', 'am1', 'produce', 'opponents', 'officially', 'maternity', 'effect', 'dean', 'soar', 'landslide', 'tweed', 'ruddock', 'rubbish', 'robinson', 'ricky', 'japans', 'elders', 'crean', 'constitution', 'account', 'negative', 'marcus', 'inmates', 'egyptian', 'corby', 'civilians', 'c', 'attorney', 'warming', 'shuts', 'seizes', 'revenge', 'pulled', 'organic', 'basketball', 'armidale', 'pm1', 'files', 'blows', 'suggests', 'spreads', 'spray', 'rose', 'responsible', 'cassidy', 'affair', '70', 'premiership', 'milan', 'gordon', 'deportation', 'cautious', 'atm', 'surges', 'surfing', 'racial', 'halts', 'ordeal', 'nobel', 'mortgage', 'misleading', 'minor', 'fbi', 'corporate', 'carers', 'angers', 'alarm', 'wheatbelt', 'whats', 'knee', 'idea', 'hayne', 'frustrated', 'faith', 'commander', 'tours', 'images', 'fta', 'fallout', 'buying', 'branch', 'atsic', '1000', 'wanderers', 'taste', 'spotted', 'mcgowan', 'judges', 'spurs', 'responsibility', 'hunger', 'dangers', 'costly', 'adds', 'tobacco', 'steal', 'robberies', 'robbed', 'politician', 'mounts', 'institute', 'hockeyroos', 'boot', 'woodside', 'stuck', 'showing', 'recommendations', 'prosecutors', 'mugabe', 'mexican', 'lay', 'jordan', 'guarantee', 'fewer', 'didnt', 'developers', 'costa', 'voluntary', 'shadow', 'roo', 'investigations', 'ceasefire', 'thorpe', 'singer', 'kerry', 'kennedy', 'graffiti', 'chicken', 'tender', 'scorecentre', 'hurting', 'electric', 'cia', 'bourke', 'barca', 'bandit', 'throws', 'tassie', 'tanker', 'meetings', 'aside', '80', 'underground', 'tank', 'note', 'hacking', 'feedback', 'easy', 'coaching', 'aerial', 'view', 'servants', 'seniors', 'rodeo', 'republican', 'philip', 'fracking', 'escapee', 'dive', 'augusta', 'unfazed', 'uber', 'reserves', 'myer', 'matches', 'kenya', 'haneef', 'fault', 'drama', 'counselling', 'born', 'sir', 'quad', 'pushing', 'laments', 'congo', 'tried', 'tracks', 'looming', 'lion', 'hussey', 'foundation', 'farewelled', 'surfers', 'superannuation', 'respond', 'rd', 'philippine', 'mayoral', 'maintains', 'kept', 'improving', 'haiti', 'gone', 'countries', 'climb', 'approvals', '31', 'trawler', 'smart', 'shine', 'meatworks', 'logan', 'battling', 'trophy', 'stunt', 'mcgrath', 'lng', 'erosion', 'decade', 'cable', 'advocates', 'taser', 'scrapped', 'santos', 'nigeria', 'landmark', 'rudds', 'motorbike', 'julie', 'fa', 'dubai', 'cox', 'cmc', 'searching', 'religious', 'potato', 'moment', 'lane', 'knowledge', 'interim', 'hints', 'helped', 'gene', 'flies', 'cahill', 'aircraft', '2011', 'warrnambool', 'triumph', 'toilet', 'toad', 'nazi', 'minerals', 'hitting', 'gary', 'cbh', 'asio', 'surprised', 'stamp', 'restructure', 'poised', 'panic', 'offshore', 'curfew', 'vaile', 'statue', 'retains', 'nats', 'iraqis', 'investigators', 'gong', 'forecasts', 'finishes', 'cousins', 'bee', 'am', 'walks', 'sink', 'rival', 'miller', 'indias', 'champ', 'blackout', 'affordable', 'weight', 'torres', 'seed', 'kidnapping', 'ii', 'detail', 'cave', 'victorians', 'sheds', 'sewage', 'scg', 'hayden', 'foley', 'fighters', 'explosives', 'canberras', 'buses', 'acquitted', 'teaching', 'sustainable', 'shelter', 'sailors', 'renews', 'phil', 'negotiations', 'milestone', 'lipped', 'ignored', 'blind', 'autism', 'any', 'advances', 'adani', 'treasury', 'rivals', 'bravery', 'views', 'vaccination', 'rich', 'restored', 'powell', 'notice', 'lawsuit', 'counting', 'abused', 'stun', 'stake', 'businessman', 'bars', 'bailout', 'advance', 'opportunity', 'improved', 'girlfriend', 'fleet', 'ecstasy', 'carnival', 'advertising', 'vital', 'subsidy', 'striking', 'roma', 'lodge', 'chasing', 'bear', 'andy', 'advocate', 'thefts', 'skin', 'praised', 'photographer', 'nigerian', 'male', 'heats', 'delivery', 'darfur', 'because', 'athens', 'undergo', 'trick', 'timeline', 'submarine', 'painting', 'lists', 'feels', 'diamonds', 'convention', 'stronger', 'silent', 'schedule', 'path', 'justin', 'id', 'breakers', 'wells', 'unity', 'programs', 'moments', 'maxwell', 'kakadu', 'forgotten', 'assess', 'yellow', 'stewart', 'significant', 'sack', 'paying', 'imf', 'fisheries', 'beaten', '300', 'twin', 'rough', 'mh17', 'greenpeace', 'webb', 'regulations', 'plague', 'available', 'ato', 'appearance', 'vulnerable', 'touch', 'spin', 'refinery', 'raaf', 'marina', 'maiden', 'kookaburras', 'darren', 'bonus', 'beyond', 'auditor', 'attracts', 'apologise', 'wheelchair', 'stood', 'stable', 'sarah', 'katter', 'easing', 'disappearance', 'affairs', 'walking', 'forests', 'coffee', 'clijsters', 'cheap', 'camps', 'alone', 'adviser', 'swiss', 'quarters', 'ny', 'mistake', 'havoc', 'concedes', 'b', 'assessment', 'acting', 'unable', 'protester', 'pigs', 'ord', 'maintenance', 'jockey', 'brisbanes', 'twins', 'trucks', 'treaty', 'sand', 'reopening', 'recalls', 'precinct', 'inspires', 'formula', 'favourite', 'extradited', 'cemetery', 'buried', 'builders', '90', 'trainer', 'shooter', 'restore', 'muslims', 'kashmir', 'important', 'destroy', 'crucial', 'creditors', 'bungle', 'bronze', 'recruitment', 'reax', 'others', 'employee', 'condemn', 'citizens', 'bbc', 'bass', 'albury', 'whistleblower', 'successful', 'slipper', 'sharon', 'promised', 'harm', 'hang', 'guinea', 'fighter', 'envoy', 'dramatic', 'compromise', 'allows', 'albanese', 'abbotts', 'wraps', 'weak', 'vice', 'temperatures', 'ports', 'patrick', 'onto', 'downplays', 'dawn', 'shootings', 'partnership', 'noise', 'latrobe', 'horsham', 'hoon', 'separate', 'reshuffle', 'mundine', 'morgan', 'lady', 'hurricanes', 'gift', 'gardens', 'fuels', 'eden', 'dredging', 'temporary', 'outrage', 'mla', 'kewell', 'hmas', 'goat', 'ballot', 'baiting', 'tornado', 'stroke', 'slip', 'savings', 'medals', 'brakes', 'betting', 'beating', 'adelaides', 'thurston', 'sixth', 'several', 'modern', 'mckenzie', 'longreach', 'limbo', 'dpi', 'chile', 'cambodian', 'sweet', 'smelter', 'jeff', 'climbs', 'borders', 'bolster', 'below', 'wildcats', 'treat', 'towers', 'springboks', 'salmon', 'reprieve', 'patrols', 'opened', 'laden', 'joy', 'ignoring', 'having', 'franklin', 'flames', 'direct', 'cba', 'carnarvon', 'swing', 'stricken', 'signals', 'shines', 'multiple', 'morris', 'jamie', 'fury', 'exposed', 'dumps', 'devil', 'dan', 'dams', 'billy', 'riding', 'minimum', 'innovation', 'honey', 'dolphin', 'difficult', 'crusaders', 'coronial', 'continued', 'caution', 'waugh', 'staffing', 'shortfall', 'ramp', 'ministry', 'kate', 'involvement', 'eddie', 'christchurch', 'catches', 'brazilian', 'usa', 'surfer', 'roadside', 'lincoln', 'federation', 'factor', 'diesel', 'devastated', 'criticise', 'trend', 'tiwi', 'shortages', 'raising', 'queenslands', 'movement', 'fixed', 'expands', 'arabia', 'v8', 'truckie', 'smashes', 'slammed', 'relay', 'provides', 'mums', 'lisa', 'hearings', 'drones', 'comp', 'cfmeu', 'babys', 'wright', 'visitor', 'therapy', 'stakes', 'sound', 'sinking', 'lismore', 'georgia', 'dig', 'derailment', 'delhi', 'daily', 'cent', 'bags']\n",
            "<generator object <genexpr> at 0x7feeab320c10>\n"
          ]
        }
      ],
      "source": [
        "batch_size = 1024\n",
        "\n",
        "filenames_full = []\n",
        "\n",
        "all_headlines_file = ['/content/drive/My Drive/Deep Learning Final Project/data/all_headlines.txt']\n",
        "filenames_full.append(all_headlines_file)\n",
        "\n",
        "filenames_yearwise = []\n",
        "for i in range(2003, 2022):\n",
        "  year_file = [f'/content/drive/My Drive/Deep Learning Final Project/data/{i}_headlines.txt']\n",
        "  filenames_yearwise.append(year_file)\n",
        "\n",
        "text_ds_full = tf.data.TextLineDataset(filenames_full)\n",
        "text_ds_full = text_ds_full.shuffle(buffer_size=256)\n",
        "text_ds_full = text_ds_full.batch(batch_size)\n",
        "\n",
        "text_ds_yearwise = []\n",
        "for i in range(2003, 2022):\n",
        "  text_ds_year = tf.data.TextLineDataset(filenames_yearwise[i-2003])\n",
        "  text_ds_year = text_ds_year.shuffle(buffer_size=256)\n",
        "  text_ds_year = text_ds_year.batch(batch_size)\n",
        "  text_ds_yearwise.append(text_ds_year)\n",
        "\n",
        "# Custom standardization function to lowercase the text and remove punctuation\n",
        "def custom_standardization(input_data):\n",
        "    lowercase = tf.strings.lower(input_data)\n",
        "    return tf.strings.regex_replace(lowercase, '[%s]' % re.escape(string.punctuation), '')\n",
        "\n",
        "# Create a vectorization layer and adapt it to the text\n",
        "vectorize_layer_full = TextVectorization(\n",
        "    standardize=custom_standardization,\n",
        "    max_tokens=vocab_size - 1,\n",
        "    output_mode=\"int\",\n",
        "    output_sequence_length=maxlen + 1,\n",
        ")\n",
        "vectorize_layer_full.adapt(text_ds_full)\n",
        "vocab_full = vectorize_layer_full.get_vocabulary()  # To get words back from token indices\n",
        "\n",
        "vectorize_layer_yearwise = []\n",
        "vocab_yearwise = []\n",
        "for i in range(2003, 2022):\n",
        "  vly = TextVectorization(\n",
        "    standardize=custom_standardization,\n",
        "    max_tokens=vocab_size - 1,\n",
        "    output_mode=\"int\",\n",
        "    output_sequence_length=maxlen + 1,\n",
        "    )\n",
        "  vly.adapt(text_ds_yearwise[i-2003])\n",
        "  vectorize_layer_yearwise.append(vly)\n",
        "  vocab_yearwise.append(vly.get_vocabulary())\n",
        "\n",
        "print(vectorize_layer_full.get_vocabulary())\n",
        "print(vl.get_vocabulary() for vl in vectorize_layer_yearwise)\n",
        "\n",
        "\n",
        "def prepare_lm_inputs_labels(text, year=-1):\n",
        "    \"\"\"\n",
        "    Shift word sequences by 1 position so that the target for position (i) is\n",
        "    word at position (i+1). The model will use all words up till position (i)\n",
        "    to predict the next word.\n",
        "    \"\"\"\n",
        "    text = tf.expand_dims(text, -1)\n",
        "    if year == -1:\n",
        "      tokenized_sentences = vectorize_layer_full(text)\n",
        "    else:\n",
        "      tokenized_sentences = vectorize_layer_yearwise[year-2003](text)\n",
        "    x = tokenized_sentences[:, :-1]\n",
        "    y = tokenized_sentences[:, 1:]\n",
        "    return x, y\n",
        "\n",
        "\n",
        "text_ds_full = text_ds_full.map(prepare_lm_inputs_labels)\n",
        "text_ds_full = text_ds_full.prefetch(tf.data.AUTOTUNE)\n",
        "\n",
        "text_ds_yearwise = (text_ds_yearwise)\n",
        "\n",
        "for i in range(2003, 2022):\n",
        "  text_ds_yearwise[i-2003] = text_ds_yearwise[i-2003].map(lambda x: prepare_lm_inputs_labels(text=x, year=i))\n",
        "  text_ds_yearwise[i-2003] = text_ds_yearwise[i-2003].prefetch(tf.data.AUTOTUNE)\n"
      ]
    },
    {
      "cell_type": "markdown",
      "metadata": {
        "id": "3cAZaMgQtzC8"
      },
      "source": [
        "## Implement a Keras callback for generating text"
      ]
    },
    {
      "cell_type": "code",
      "execution_count": null,
      "metadata": {
        "id": "ykRQnDvftzC8"
      },
      "outputs": [],
      "source": [
        "\n",
        "class TextGenerator(keras.callbacks.Callback):\n",
        "    \"\"\"A callback to generate text from a trained model.\n",
        "    1. Feed some starting prompt to the model\n",
        "    2. Predict probabilities for the next token\n",
        "    3. Sample the next token and add it to the next input\n",
        "\n",
        "    Arguments:\n",
        "        max_tokens: Integer, the number of tokens to be generated after prompt.\n",
        "        start_tokens: List of integers, the token indices for the starting prompt.\n",
        "        index_to_word: List of strings, obtained from the TextVectorization layer.\n",
        "        top_k: Integer, sample from the `top_k` token predictions.\n",
        "        print_every: Integer, print after this many epochs.\n",
        "    \"\"\"\n",
        "\n",
        "    def __init__(\n",
        "        self, max_tokens, start_tokens, index_to_word, top_k=10, print_every=1\n",
        "    ):\n",
        "        self.max_tokens = max_tokens\n",
        "        self.start_tokens = start_tokens\n",
        "        self.index_to_word = index_to_word\n",
        "        self.print_every = print_every\n",
        "        self.k = top_k\n",
        "\n",
        "    def sample_from(self, logits):\n",
        "        logits, indices = tf.math.top_k(logits, k=self.k, sorted=True)\n",
        "        indices = np.asarray(indices).astype(\"int32\")\n",
        "        preds = keras.activations.softmax(tf.expand_dims(logits, 0))[0]\n",
        "        preds = np.asarray(preds).astype(\"float32\")\n",
        "        return np.random.choice(indices, p=preds)\n",
        "\n",
        "    def detokenize(self, number):\n",
        "        return self.index_to_word[number]\n",
        "\n",
        "    def on_epoch_end(self, epoch, logs=None):\n",
        "        start_tokens = [_ for _ in self.start_tokens]\n",
        "        if (epoch + 1) % self.print_every != 0:\n",
        "            return\n",
        "        num_tokens_generated = 0\n",
        "        tokens_generated = []\n",
        "        while num_tokens_generated <= self.max_tokens:\n",
        "            pad_len = maxlen - len(start_tokens)\n",
        "            sample_index = len(start_tokens) - 1\n",
        "            if pad_len < 0:\n",
        "                x = start_tokens[:maxlen]\n",
        "                sample_index = maxlen - 1\n",
        "            elif pad_len > 0:\n",
        "                x = start_tokens + [0] * pad_len\n",
        "            else:\n",
        "                x = start_tokens\n",
        "            x = np.array([x])\n",
        "            y, _ = self.model.predict(x)\n",
        "            sample_token = self.sample_from(y[0][sample_index])\n",
        "            tokens_generated.append(sample_token)\n",
        "            # start_tokens.append(sample_token)\n",
        "            num_tokens_generated = len(tokens_generated)\n",
        "        txt = \" \".join(\n",
        "            [self.detokenize(_) for _ in self.start_tokens + tokens_generated]\n",
        "        )\n",
        "        print(f\"generated text:\\n{txt}\\n\")\n",
        "\n",
        "\n",
        "# Tokenize starting prompt\n",
        "word_to_index_full = {}\n",
        "for index, word in enumerate(vocab_full):\n",
        "    word_to_index_full[word] = index\n",
        "\n",
        "start_prompt = \"the police are\"\n",
        "start_tokens = [word_to_index_full.get(_, 1) for _ in start_prompt.split()]\n",
        "num_tokens_generated = 3\n",
        "text_gen_callback_full = TextGenerator(num_tokens_generated, start_tokens, vocab_full)\n",
        "\n",
        "word_to_index_yearwise = []\n",
        "text_gen_callback_yearwise = []\n",
        "for i in range(2003, 2022):\n",
        "  year_dict = {}\n",
        "  for index, word in enumerate(vocab_yearwise[i-2003]):\n",
        "    year_dict[word] = index\n",
        "  word_to_index_yearwise.append(year_dict)\n",
        "  start_tokens = [year_dict.get(_, 1) for _ in start_prompt.split()]\n",
        "  text_gen_callback_yearwise.append(TextGenerator(num_tokens_generated, start_tokens, vocab_yearwise[i-2003]))"
      ]
    },
    {
      "cell_type": "markdown",
      "metadata": {
        "id": "KYuN0OZYtzDA"
      },
      "source": [
        "## Train the model\n",
        "\n",
        "Note: This code should preferably be run on GPU."
      ]
    },
    {
      "cell_type": "code",
      "execution_count": null,
      "metadata": {
        "id": "XaRDY1O8tzDA",
        "outputId": "6d9e3896-802c-4e51-99b7-999b0f7afa90",
        "colab": {
          "base_uri": "https://localhost:8080/"
        }
      },
      "outputs": [
        {
          "output_type": "stream",
          "name": "stdout",
          "text": [
            "Epoch 1/20\n"
          ]
        }
      ],
      "source": [
        "# Train model on full set of headlines\n",
        "model_full = create_model(-1)\n",
        "\n",
        "model_full.fit(text_ds_full, verbose=2, epochs=20, callbacks=[text_gen_callback_full])\n",
        "\n",
        "# Train models yearwise\n",
        "models_yearwise = [None] * (2021-2003+1)\n",
        "for year in range(2003, 2022):\n",
        "  models_yearwise[year-2003] = create_model(year)\n",
        "  models_yearwise[year-2003].fit(text_ds_yearwise[year-2003], verbose=2, epochs=20, callbacks=[text_gen_callback_yearwise[year-2003]])"
      ]
    },
    {
      "cell_type": "code",
      "source": [
        "start_prompt = \"obama\"\n",
        "\n",
        "print(\"Full model:\")\n",
        "start_tokens_full = [word_to_index_full.get(_, 1) for _ in start_prompt.split()]\n",
        "\n",
        "input_sequence = np.array(start_tokens_full)[np.newaxis, :]\n",
        "model_full.predict(input_sequence)[1].shape\n",
        "\n",
        "next_tokens = np.argsort(model_full.predict(input_sequence)[0][0, -1, :])[-4:] # Last index controls number of tokens generated\n",
        "\n",
        "start_tokens_full += list(next_tokens)\n",
        "print(len(start_tokens_full))\n",
        "\n",
        "generated_text = ' '.join([vocab_full[token] for token in start_tokens_full])\n",
        "print(generated_text)\n",
        "\n",
        "for year in range(2003, 2022):\n",
        "  print(\"\\n ********* \\n\")\n",
        "  print(year, \"model:\")\n",
        "  print(start_prompt.split())\n",
        "  start_tokens_year = [word_to_index_yearwise[year - 2003].get(_, 1) for _ in start_prompt.split()]\n",
        "  print(start_tokens_year)\n",
        "\n",
        "  input_sequence = np.array(start_tokens_year)[np.newaxis, :]\n",
        "  models_yearwise[year - 2003].predict(input_sequence)[1].shape\n",
        "\n",
        "  next_tokens = np.argsort(models_yearwise[year - 2003].predict(input_sequence)[0][0, -1, :])[-4:] # Last index controls number of tokens generated\n",
        "\n",
        "  start_tokens_year += list(next_tokens)\n",
        "  print(len(start_tokens_year))\n",
        "\n",
        "  generated_text = ' '.join([vocab_yearwise[year - 2003][token] for token in start_tokens_year])\n",
        "  print(generated_text)"
      ],
      "metadata": {
        "colab": {
          "base_uri": "https://localhost:8080/"
        },
        "id": "3vpoVGqy2Mk4",
        "outputId": "f297825c-10ed-431f-c82f-57e634fa7fbf"
      },
      "execution_count": null,
      "outputs": [
        {
          "output_type": "stream",
          "name": "stdout",
          "text": [
            "Full model:\n",
            "1/1 [==============================] - 0s 43ms/step\n",
            "1/1 [==============================] - 0s 47ms/step\n",
            "5\n",
            "obama announces of says [UNK]\n",
            "\n",
            " ********* \n",
            "\n",
            "2003 model:\n",
            "['obama']\n",
            "[1]\n",
            "1/1 [==============================] - 0s 48ms/step\n",
            "1/1 [==============================] - 0s 38ms/step\n",
            "5\n",
            "[UNK] in  to [UNK]\n",
            "\n",
            " ********* \n",
            "\n",
            "2004 model:\n",
            "['obama']\n",
            "[1]\n",
            "1/1 [==============================] - 0s 46ms/step\n",
            "1/1 [==============================] - 0s 36ms/step\n",
            "5\n",
            "[UNK] in for to [UNK]\n",
            "\n",
            " ********* \n",
            "\n",
            "2005 model:\n",
            "['obama']\n",
            "[1]\n",
            "1/1 [==============================] - 0s 42ms/step\n",
            "1/1 [==============================] - 0s 47ms/step\n",
            "5\n",
            "[UNK] in for to [UNK]\n",
            "\n",
            " ********* \n",
            "\n",
            "2006 model:\n",
            "['obama']\n",
            "[1]\n",
            "1/1 [==============================] - 0s 81ms/step\n",
            "1/1 [==============================] - 0s 53ms/step\n",
            "5\n",
            "[UNK] in  to [UNK]\n",
            "\n",
            " ********* \n",
            "\n",
            "2007 model:\n",
            "['obama']\n",
            "[3168]\n",
            "1/1 [==============================] - 0s 38ms/step\n",
            "1/1 [==============================] - 0s 32ms/step\n",
            "5\n",
            "obama in for to [UNK]\n",
            "\n",
            " ********* \n",
            "\n",
            "2008 model:\n",
            "['obama']\n",
            "[156]\n",
            "1/1 [==============================] - 0s 33ms/step\n",
            "1/1 [==============================] - 0s 33ms/step\n",
            "5\n",
            "obama in for to [UNK]\n",
            "\n",
            " ********* \n",
            "\n",
            "2009 model:\n",
            "['obama']\n",
            "[176]\n",
            "1/1 [==============================] - 0s 31ms/step\n",
            "1/1 [==============================] - 0s 33ms/step\n",
            "5\n",
            "obama for  to [UNK]\n",
            "\n",
            " ********* \n",
            "\n",
            "2010 model:\n",
            "['obama']\n",
            "[339]\n",
            "1/1 [==============================] - 0s 34ms/step\n",
            "1/1 [==============================] - 0s 32ms/step\n",
            "5\n",
            "obama in for to [UNK]\n",
            "\n",
            " ********* \n",
            "\n",
            "2011 model:\n",
            "['obama']\n",
            "[314]\n",
            "1/1 [==============================] - 0s 41ms/step\n",
            "1/1 [==============================] - 0s 31ms/step\n",
            "5\n",
            "obama for  to [UNK]\n",
            "\n",
            " ********* \n",
            "\n",
            "2012 model:\n",
            "['obama']\n",
            "[272]\n",
            "1/1 [==============================] - 0s 29ms/step\n",
            "1/1 [==============================] - 0s 37ms/step\n",
            "5\n",
            "obama on for to [UNK]\n",
            "\n",
            " ********* \n",
            "\n",
            "2013 model:\n",
            "['obama']\n",
            "[525]\n",
            "1/1 [==============================] - 0s 35ms/step\n",
            "1/1 [==============================] - 0s 33ms/step\n",
            "5\n",
            "obama for  to [UNK]\n",
            "\n",
            " ********* \n",
            "\n",
            "2014 model:\n",
            "['obama']\n",
            "[599]\n",
            "1/1 [==============================] - 0s 32ms/step\n",
            "1/1 [==============================] - 0s 34ms/step\n",
            "5\n",
            "obama for in to [UNK]\n",
            "\n",
            " ********* \n",
            "\n",
            "2015 model:\n",
            "['obama']\n",
            "[712]\n",
            "1/1 [==============================] - 0s 35ms/step\n",
            "1/1 [==============================] - 0s 33ms/step\n",
            "5\n",
            "obama for of to [UNK]\n",
            "\n",
            " ********* \n",
            "\n",
            "2016 model:\n",
            "['obama']\n",
            "[439]\n",
            "1/1 [==============================] - 0s 31ms/step\n",
            "1/1 [==============================] - 0s 36ms/step\n",
            "5\n",
            "obama in of to [UNK]\n",
            "\n",
            " ********* \n",
            "\n",
            "2017 model:\n",
            "['obama']\n",
            "[892]\n",
            "1/1 [==============================] - 0s 32ms/step\n",
            "1/1 [==============================] - 0s 32ms/step\n",
            "5\n",
            "obama in for to [UNK]\n",
            "\n",
            " ********* \n",
            "\n",
            "2018 model:\n",
            "['obama']\n",
            "[1949]\n",
            "1/1 [==============================] - 0s 30ms/step\n",
            "1/1 [==============================] - 0s 30ms/step\n",
            "5\n",
            "obama of in to [UNK]\n",
            "\n",
            " ********* \n",
            "\n",
            "2019 model:\n",
            "['obama']\n",
            "[1]\n",
            "1/1 [==============================] - 0s 39ms/step\n",
            "1/1 [==============================] - 0s 32ms/step\n",
            "5\n",
            "[UNK] to in  [UNK]\n",
            "\n",
            " ********* \n",
            "\n",
            "2020 model:\n",
            "['obama']\n",
            "[2001]\n",
            "1/1 [==============================] - 0s 32ms/step\n",
            "1/1 [==============================] - 0s 35ms/step\n",
            "5\n",
            "obama election for to [UNK]\n",
            "\n",
            " ********* \n",
            "\n",
            "2021 model:\n",
            "['obama']\n",
            "[1]\n",
            "1/1 [==============================] - 0s 34ms/step\n",
            "1/1 [==============================] - 0s 32ms/step\n",
            "5\n",
            "[UNK] in to  [UNK]\n"
          ]
        }
      ]
    }
  ],
  "metadata": {
    "accelerator": "GPU",
    "colab": {
      "provenance": [],
      "toc_visible": true
    },
    "kernelspec": {
      "display_name": "Python 3",
      "language": "python",
      "name": "python3"
    },
    "language_info": {
      "codemirror_mode": {
        "name": "ipython",
        "version": 3
      },
      "file_extension": ".py",
      "mimetype": "text/x-python",
      "name": "python",
      "nbconvert_exporter": "python",
      "pygments_lexer": "ipython3",
      "version": "3.7.0"
    }
  },
  "nbformat": 4,
  "nbformat_minor": 0
}